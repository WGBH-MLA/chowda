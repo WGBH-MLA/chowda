{
 "cells": [
  {
   "cell_type": "markdown",
   "metadata": {},
   "source": [
    "# Argo Events\n",
    "\n",
    "This demonstrates how to use Argo Events to trigger a workflow.\n",
    "\n",
    "## Port\n",
    "\n",
    "Port forward to the argo-events `webhook` eventsource service:\n",
    "\n",
    "```bash\n",
    "kubectl -n argo-events port-forward service/webhook-eventsource-svc 12000\n",
    "```\n"
   ]
  },
  {
   "cell_type": "code",
   "execution_count": 1,
   "metadata": {},
   "outputs": [],
   "source": [
    "from metaflow import namespace\n",
    "from metaflow.integrations import ArgoEvent"
   ]
  },
  {
   "cell_type": "code",
   "execution_count": 2,
   "metadata": {},
   "outputs": [
    {
     "data": {
      "text/plain": [
       "'triggerpipeline-0-vqms'"
      ]
     },
     "execution_count": 2,
     "metadata": {},
     "output_type": "execute_result"
    }
   ],
   "source": [
    "namespace(\"triggerpipeline-0-vqms\")"
   ]
  },
  {
   "cell_type": "code",
   "execution_count": 4,
   "metadata": {},
   "outputs": [],
   "source": [
    "e = ArgoEvent(\n",
    "    \"ampersand\",\n",
    "    payload={\"guid\": \"1234\", \"pipeline\": \"http://app-name?params=true&test=1\"},\n",
    ")"
   ]
  },
  {
   "cell_type": "code",
   "execution_count": 5,
   "metadata": {},
   "outputs": [
    {
     "name": "stderr",
     "output_type": "stream",
     "text": [
      "Argo Event (ampersand) published.\n"
     ]
    },
    {
     "data": {
      "text/plain": [
       "'e9d3168d-349b-438c-8542-040017e1da72'"
      ]
     },
     "execution_count": 5,
     "metadata": {},
     "output_type": "execute_result"
    }
   ],
   "source": [
    "e.publish()"
   ]
  }
 ],
 "metadata": {
  "kernelspec": {
   "display_name": ".venv",
   "language": "python",
   "name": "python3"
  },
  "language_info": {
   "codemirror_mode": {
    "name": "ipython",
    "version": 3
   },
   "file_extension": ".py",
   "mimetype": "text/x-python",
   "name": "python",
   "nbconvert_exporter": "python",
   "pygments_lexer": "ipython3",
   "version": "3.12.1"
  }
 },
 "nbformat": 4,
 "nbformat_minor": 2
}
