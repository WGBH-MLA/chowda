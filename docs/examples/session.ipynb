{
 "cells": [
  {
   "attachments": {},
   "cell_type": "markdown",
   "metadata": {},
   "source": [
    "# SQLModel Session exercise\n",
    "\n",
    "Adapted from Drew's slack example\n"
   ]
  },
  {
   "cell_type": "code",
   "execution_count": 1,
   "metadata": {},
   "outputs": [],
   "source": [
    "from tests.factories import *"
   ]
  },
  {
   "attachments": {},
   "cell_type": "markdown",
   "metadata": {},
   "source": [
    "## Create a new Batch from factory\n"
   ]
  },
  {
   "cell_type": "code",
   "execution_count": 2,
   "metadata": {},
   "outputs": [],
   "source": [
    "batch = BatchFactory.create()"
   ]
  },
  {
   "attachments": {},
   "cell_type": "markdown",
   "metadata": {},
   "source": [
    "## Grab the session the Batch was created with for inspection.\n"
   ]
  },
  {
   "cell_type": "code",
   "execution_count": 3,
   "metadata": {},
   "outputs": [],
   "source": [
    "from sqlmodel import Session\n",
    "\n",
    "session = Session.object_session(batch)"
   ]
  },
  {
   "attachments": {},
   "cell_type": "markdown",
   "metadata": {},
   "source": [
    "## Change something on the batch\n"
   ]
  },
  {
   "cell_type": "code",
   "execution_count": 4,
   "metadata": {},
   "outputs": [],
   "source": [
    "batch.description = \"exceedingly jolly\""
   ]
  },
  {
   "attachments": {},
   "cell_type": "markdown",
   "metadata": {},
   "source": [
    "## View the changes that have yet to be committed to the db\n"
   ]
  },
  {
   "cell_type": "code",
   "execution_count": 5,
   "metadata": {},
   "outputs": [
    {
     "name": "stdout",
     "output_type": "stream",
     "text": [
      "session.dirty =  IdentitySet([Batch(description='exceedingly jolly')])\n"
     ]
    }
   ],
   "source": [
    "print('session.dirty = ', session.dirty)\n",
    "# => session.dirty = IdentitySet([Batch(description='foo')])"
   ]
  },
  {
   "attachments": {},
   "cell_type": "markdown",
   "metadata": {},
   "source": [
    "## Commit the changes to the db.\n",
    "\n",
    "Note that we do not have to call session.add(batch) since the Batch instance is already attached to the session.\n"
   ]
  },
  {
   "cell_type": "code",
   "execution_count": 6,
   "metadata": {},
   "outputs": [],
   "source": [
    "session.commit()"
   ]
  },
  {
   "attachments": {},
   "cell_type": "markdown",
   "metadata": {},
   "source": [
    "## Verify there are no other pending changes.\n"
   ]
  },
  {
   "cell_type": "code",
   "execution_count": 7,
   "metadata": {},
   "outputs": [
    {
     "name": "stdout",
     "output_type": "stream",
     "text": [
      "session.dirty =  IdentitySet([])\n"
     ]
    }
   ],
   "source": [
    "print('session.dirty = ', session.dirty)\n",
    "# => IdentitySet([])"
   ]
  },
  {
   "attachments": {},
   "cell_type": "markdown",
   "metadata": {},
   "source": [
    "## Use a contextual session\n",
    "\n",
    "(called \"db\") to grab a separate copy of the batch and verify it has the change.\n"
   ]
  },
  {
   "cell_type": "code",
   "execution_count": 19,
   "metadata": {},
   "outputs": [
    {
     "name": "stdout",
     "output_type": "stream",
     "text": [
      "batch_copy.description =  exceedingly jolly and effortlessly charming and elaborately loquacious\n"
     ]
    }
   ],
   "source": [
    "from sqlmodel import select\n",
    "\n",
    "with Session(engine) as db:\n",
    "    batch_copy = db.exec(select(Batch).where(Batch.id == batch.id)).first()\n",
    "print('batch_copy.description = ', batch_copy.description)\n",
    "# => foo"
   ]
  },
  {
   "attachments": {},
   "cell_type": "markdown",
   "metadata": {},
   "source": [
    "Note that since we grabbed batch_copy using a contextual session, and that context has ended, so has the session, and the object is currently unattached to any session.\n"
   ]
  },
  {
   "cell_type": "code",
   "execution_count": 20,
   "metadata": {},
   "outputs": [
    {
     "name": "stdout",
     "output_type": "stream",
     "text": [
      "seesion for batch_copy =  None\n"
     ]
    }
   ],
   "source": [
    "print('seesion for batch_copy = ', Session.object_session(batch_copy))\n",
    "# => None"
   ]
  },
  {
   "attachments": {},
   "cell_type": "markdown",
   "metadata": {},
   "source": [
    "## Now change batch_copy.descripiton,\n",
    "\n",
    "save it with a contextual session, and see how it affected or original Batch instance, which is still alive and attached to the session it was created with.\n"
   ]
  },
  {
   "cell_type": "code",
   "execution_count": 12,
   "metadata": {},
   "outputs": [],
   "source": [
    "batch_copy.description += \" and effortlessly charming\"\n",
    "with Session(engine) as db:\n",
    "    db.add(batch_copy)\n",
    "    db.commit()\n"
   ]
  },
  {
   "attachments": {},
   "cell_type": "markdown",
   "metadata": {},
   "source": [
    "## NOTE: after committing changes to batch_copy using contextual session in this way,\n",
    "\n",
    "trying to access attributes on the object like batch_copy.description raises an error:\n",
    "\n",
    "> Instance <Batch at 0x107b84e10> is not bound to a Session; attribute refresh operation cannot proceed\n"
   ]
  },
  {
   "cell_type": "code",
   "execution_count": 13,
   "metadata": {},
   "outputs": [
    {
     "name": "stdout",
     "output_type": "stream",
     "text": [
      "batch_copy.description =  exceedingly jolly and effortlessly charming\n"
     ]
    }
   ],
   "source": [
    "with Session(engine) as db:\n",
    "    db.add(batch_copy)\n",
    "    print('batch_copy.description = ', batch_copy.description)\n",
    "    # => batch_copy.description =  exceedingly jolly and effortlessly charming\n"
   ]
  },
  {
   "attachments": {},
   "cell_type": "markdown",
   "metadata": {},
   "source": [
    "## Confirm that our original Batch instance still has the old description\n"
   ]
  },
  {
   "cell_type": "code",
   "execution_count": 14,
   "metadata": {},
   "outputs": [
    {
     "name": "stdout",
     "output_type": "stream",
     "text": [
      "batch.description before refresh =  exceedingly jolly\n"
     ]
    }
   ],
   "source": [
    "print('batch.description before refresh = ', batch.description)\n",
    "# => batch.description before refresh = exceedingly jolly\n"
   ]
  },
  {
   "attachments": {},
   "cell_type": "markdown",
   "metadata": {},
   "source": [
    "## Refresh the original Batch instance\n",
    "\n",
    "and check the description again\n"
   ]
  },
  {
   "cell_type": "code",
   "execution_count": 15,
   "metadata": {},
   "outputs": [
    {
     "name": "stdout",
     "output_type": "stream",
     "text": [
      "batch.description after refresh =  exceedingly jolly and effortlessly charming\n"
     ]
    }
   ],
   "source": [
    "session.refresh(batch)\n",
    "print('batch.description after refresh = ', batch.description)\n",
    "# => batch.description after refresh = exceedingly jolly and effortlessly charming\n"
   ]
  },
  {
   "attachments": {},
   "cell_type": "markdown",
   "metadata": {},
   "source": [
    "## Now let's edit `batch.description` and `batch_copy.description`\n",
    "\n",
    "and update them both independently to see what happens.\n"
   ]
  },
  {
   "cell_type": "code",
   "execution_count": 16,
   "metadata": {},
   "outputs": [],
   "source": [
    "batch.description += \" and fantastically flatulent\""
   ]
  },
  {
   "attachments": {},
   "cell_type": "markdown",
   "metadata": {},
   "source": [
    "## save the first edit\n"
   ]
  },
  {
   "cell_type": "code",
   "execution_count": 17,
   "metadata": {},
   "outputs": [],
   "source": [
    "session.commit()\n"
   ]
  },
  {
   "attachments": {},
   "cell_type": "markdown",
   "metadata": {},
   "source": [
    "## save the second edit\n"
   ]
  },
  {
   "cell_type": "code",
   "execution_count": 18,
   "metadata": {},
   "outputs": [
    {
     "name": "stdout",
     "output_type": "stream",
     "text": [
      "batch_copy.description =  exceedingly jolly and effortlessly charming and elaborately loquacious\n"
     ]
    }
   ],
   "source": [
    "with Session(engine) as db:\n",
    "    batch_copy.description += \" and elaborately loquacious\"\n",
    "    db.add(batch_copy)\n",
    "    db.commit()\n",
    "    print('batch_copy.description = ', batch_copy.description)\n",
    "# => batch_copy.description =  exceedingly jolly and effortlessly charming and elaborately loquacious\n"
   ]
  },
  {
   "attachments": {},
   "cell_type": "markdown",
   "metadata": {},
   "source": [
    "## Unsurprisingly, the 2nd save wins.\n",
    "\n",
    "The changes saved in original Batch instance with it's original session get overwritten by this one.\n"
   ]
  }
 ],
 "metadata": {
  "kernelspec": {
   "display_name": "Python 3",
   "language": "python",
   "name": "python3"
  },
  "language_info": {
   "codemirror_mode": {
    "name": "ipython",
    "version": 3
   },
   "file_extension": ".py",
   "mimetype": "text/x-python",
   "name": "python",
   "nbconvert_exporter": "python",
   "pygments_lexer": "ipython3",
   "version": "3.11.3"
  },
  "orig_nbformat": 4
 },
 "nbformat": 4,
 "nbformat_minor": 2
}
