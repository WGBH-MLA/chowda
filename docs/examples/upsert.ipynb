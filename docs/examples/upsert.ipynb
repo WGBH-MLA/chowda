{
 "cells": [
  {
   "cell_type": "code",
   "execution_count": 1,
   "metadata": {},
   "outputs": [],
   "source": [
    "from sqlmodel import Session, select\n",
    "\n",
    "from chowda.models import SonyCiAsset\n",
    "from chowda.db import engine\n"
   ]
  },
  {
   "cell_type": "code",
   "execution_count": 2,
   "metadata": {},
   "outputs": [],
   "source": [
    "def get_asset():\n",
    "    with Session(engine) as session:\n",
    "        z = session.exec(select(SonyCiAsset).where(SonyCiAsset.id == 'test'))\n",
    "\n",
    "        x = z.first()"
   ]
  },
  {
   "cell_type": "code",
   "execution_count": 3,
   "metadata": {},
   "outputs": [
    {
     "data": {
      "text/plain": [
       "{'name': 'testname',\n",
       " 'size': 1,\n",
       " 'type': <MediaType.video: 'Video'>,\n",
       " 'format': 'mp4',\n",
       " 'thumbnails': []}"
      ]
     },
     "execution_count": 3,
     "metadata": {},
     "output_type": "execute_result"
    }
   ],
   "source": [
    "from sqlalchemy.dialects.postgresql import insert\n",
    "\n",
    "c = SonyCiAsset(\n",
    "    id='test',\n",
    "    name='testname',\n",
    "    type='Video',\n",
    "    size=1,\n",
    "    format='mp4',\n",
    "    thumbnails=[],\n",
    ")\n",
    "c.model_dump()"
   ]
  },
  {
   "cell_type": "code",
   "execution_count": 4,
   "metadata": {},
   "outputs": [],
   "source": [
    "def upsert(asset):\n",
    "    with Session(engine) as session:\n",
    "        stmt = (\n",
    "            insert(SonyCiAsset)\n",
    "            .values([asset])\n",
    "            .on_conflict_do_update(\n",
    "                index_elements=[SonyCiAsset.id],\n",
    "                set_=asset,\n",
    "            )\n",
    "        )\n",
    "        session.execute(stmt)\n",
    "        session.commit()\n"
   ]
  }
 ],
 "metadata": {
  "kernelspec": {
   "display_name": ".venv",
   "language": "python",
   "name": "python3"
  },
  "language_info": {
   "codemirror_mode": {
    "name": "ipython",
    "version": 3
   },
   "file_extension": ".py",
   "mimetype": "text/x-python",
   "name": "python",
   "nbconvert_exporter": "python",
   "pygments_lexer": "ipython3",
   "version": "3.11.5"
  },
  "orig_nbformat": 4
 },
 "nbformat": 4,
 "nbformat_minor": 2
}
