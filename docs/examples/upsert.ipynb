{
 "cells": [
  {
   "cell_type": "code",
   "execution_count": null,
   "metadata": {},
   "outputs": [],
   "source": [
    "from sqlmodel import Session, select\n",
    "\n",
    "from chowda.models import SonyCiAsset\n",
    "from chowda.db import engine\n"
   ]
  },
  {
   "cell_type": "code",
   "execution_count": null,
   "metadata": {},
   "outputs": [],
   "source": [
    "with Session(engine) as session:\n",
    "    z = session.exec(select(SonyCiAsset).where(SonyCiAsset.id == 'test'))\n",
    "\n",
    "    x = z.first()\n",
    "x\n"
   ]
  },
  {
   "cell_type": "code",
   "execution_count": null,
   "metadata": {},
   "outputs": [],
   "source": [
    "from sqlalchemy.dialects.postgresql import insert\n",
    "\n",
    "c = SonyCiAsset(\n",
    "    id='test',\n",
    "    name='testname',\n",
    "    type=x.type,\n",
    "    size=x.size,\n",
    "    format=x.format,\n",
    "    thumbnails=[],\n",
    ")\n",
    "c.dict()"
   ]
  },
  {
   "cell_type": "code",
   "execution_count": null,
   "metadata": {},
   "outputs": [],
   "source": [
    "with Session(engine) as session:\n",
    "    stmt = (\n",
    "        insert(SonyCiAsset)\n",
    "        .values([c.dict()])\n",
    "        .on_conflict_do_update(\n",
    "            index_elements=[SonyCiAsset.id],\n",
    "            set_=c.dict(),\n",
    "        )\n",
    "    )\n",
    "    session.execute(stmt)\n",
    "    session.commit()\n"
   ]
  }
 ],
 "metadata": {
  "kernelspec": {
   "display_name": ".venv",
   "language": "python",
   "name": "python3"
  },
  "language_info": {
   "codemirror_mode": {
    "name": "ipython",
    "version": 3
   },
   "file_extension": ".py",
   "mimetype": "text/x-python",
   "name": "python",
   "nbconvert_exporter": "python",
   "pygments_lexer": "ipython3",
   "version": "3.11.3"
  },
  "orig_nbformat": 4
 },
 "nbformat": 4,
 "nbformat_minor": 2
}
