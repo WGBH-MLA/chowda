{
 "cells": [
  {
   "attachments": {},
   "cell_type": "markdown",
   "metadata": {},
   "source": [
    "# Ingest\n",
    "\n",
    "Ingest all guids from AAPB into Chowda\n"
   ]
  },
  {
   "cell_type": "code",
   "execution_count": null,
   "metadata": {},
   "outputs": [],
   "source": [
    "from sonyci import SonyCi\n",
    "from os import environ\n",
    "\n",
    "environ['DB_URL'] = 'sqlite:///../../chowda.development.sqlite'\n",
    "from tests.factories import MediaFileFactory\n",
    "\n",
    "ci = SonyCi.load_from_toml('../../ci.toml')\n"
   ]
  },
  {
   "cell_type": "code",
   "execution_count": null,
   "metadata": {},
   "outputs": [],
   "source": [
    "def get_batch(n):\n",
    "    return ci.get(\n",
    "        f'workspaces/{ci.workspace_id}/contents?kind=asset&limit=100&fields=id,name,type,size,thumbnails&offset={n*100}'\n",
    "    )['items']\n",
    "\n",
    "\n",
    "count = ci.get(f'workspaces/{ci.workspace_id}/contents?kind=asset&limit=1')['count']"
   ]
  },
  {
   "cell_type": "code",
   "execution_count": null,
   "metadata": {},
   "outputs": [],
   "source": [
    "def ingest():\n",
    "    for i in range(count // 100 + 1):\n",
    "        for asset in get_batch(i):\n",
    "            MediaFileFactory.create(id=asset['id'], guid=asset['name'])\n"
   ]
  },
  {
   "attachments": {},
   "cell_type": "markdown",
   "metadata": {},
   "source": [
    "`ingest()` took 68 minutes to ingest 174,170 guids!\n",
    "\n",
    "42 guids/second\n"
   ]
  },
  {
   "attachments": {},
   "cell_type": "markdown",
   "metadata": {},
   "source": [
    "## But we can do better!\n",
    "\n",
    "First, we'll group the `MediaFile`s so we can add them in a single database commit.\n"
   ]
  },
  {
   "cell_type": "code",
   "execution_count": null,
   "metadata": {},
   "outputs": [],
   "source": [
    "from sqlmodel import Session\n",
    "\n",
    "from chowda.models import SonyCiAsset\n",
    "from chowda.db import engine\n",
    "\n",
    "\n",
    "def batch_ingest_session(n):\n",
    "    with Session(engine) as session:\n",
    "        batch = get_batch(n)\n",
    "        media = [SonyCiAsset(**asset) for asset in batch]\n",
    "        session.add_all(media)\n",
    "        session.commit()\n",
    "\n",
    "\n",
    "batch = get_batch(1)\n",
    "media = [SonyCiAsset(**asset) for asset in batch]"
   ]
  },
  {
   "attachments": {},
   "cell_type": "markdown",
   "metadata": {},
   "source": [
    "Each call currently happens in series, so we can use `multiprocessing` to parallelize the ingestion process.\n"
   ]
  },
  {
   "cell_type": "code",
   "execution_count": null,
   "metadata": {},
   "outputs": [],
   "source": [
    "from multiprocessing.pool import ThreadPool\n",
    "\n",
    "\n",
    "def batch_ingest_with_threadpool():\n",
    "    with ThreadPool() as pool:\n",
    "        for _ in pool.map(batch_ingest_session, range(count // 100 + 1)):\n",
    "            pass\n"
   ]
  },
  {
   "attachments": {},
   "cell_type": "markdown",
   "metadata": {},
   "source": [
    "11 minutes!\n",
    "\n",
    "That's a 6x speedup!\n",
    "\n",
    "264 guids/second\n",
    "\n",
    "## But we can do even better!\n",
    "\n",
    "Since this operation is network bound, we can use more processes than we have cores.\n"
   ]
  },
  {
   "cell_type": "code",
   "execution_count": null,
   "metadata": {},
   "outputs": [],
   "source": [
    "with ThreadPool() as pool:\n",
    "    for _ in pool.map(batch_ingest_session, range(1)):\n",
    "        pass\n"
   ]
  },
  {
   "attachments": {},
   "cell_type": "markdown",
   "metadata": {},
   "source": [
    "## Fastest!\n",
    "\n",
    "1m 49s!\n",
    "\n",
    "That's a 37x speedup!\n",
    "\n",
    "1600 guids/second!!!\n"
   ]
  }
 ],
 "metadata": {
  "kernelspec": {
   "display_name": ".venv",
   "language": "python",
   "name": "python3"
  },
  "language_info": {
   "codemirror_mode": {
    "name": "ipython",
    "version": 3
   },
   "file_extension": ".py",
   "mimetype": "text/x-python",
   "name": "python",
   "nbconvert_exporter": "python",
   "pygments_lexer": "ipython3",
   "version": "3.11.3"
  },
  "orig_nbformat": 4
 },
 "nbformat": 4,
 "nbformat_minor": 2
}
