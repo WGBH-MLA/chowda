{
 "cells": [
  {
   "cell_type": "markdown",
   "metadata": {},
   "source": [
    "# Events\n",
    "\n",
    "Use Argo Events to trigger workflows.\n",
    "\n",
    "### Setup\n",
    "\n",
    "Configure Metaflow to connect to Argo Events.\n",
    "\n",
    "```json\n",
    "{\n",
    "    \"METAFLOW_ARGO_EVENTS_EVENT\": \"chowda\",\n",
    "    \"METAFLOW_ARGO_EVENTS_EVENT_BUS\": \"default\",\n",
    "    \"METAFLOW_ARGO_EVENTS_EVENT_SOURCE\": \"webhook\",\n",
    "    \"METAFLOW_ARGO_EVENTS_INTERNAL_WEBHOOK_URL\": \"http://webhook-eventsource-svc.argo-events.svc.cluster.local:12000\",\n",
    "    \"METAFLOW_ARGO_EVENTS_WEBHOOK_URL\": \"http://localhost:12000/chowda\",\n",
    "    \"METAFLOW_ARGO_EVENTS_SERVICE_ACCOUNT\": \"operate-workflow-sa\",\n",
    "    ...\n",
    "}\n",
    "```\n",
    "\n",
    "If running locally, port-forward the webhook event source.\n",
    "\n",
    "```bash\n",
    "kubectl port-forward svc/webhook-eventsource-svc 12000:12000\n",
    "```\n"
   ]
  },
  {
   "cell_type": "markdown",
   "metadata": {},
   "source": [
    "## Sync\n",
    "\n",
    "Trigger the `IngestFlow` to sync all assets from SonyCi to the Chowda database.\n"
   ]
  },
  {
   "cell_type": "code",
   "execution_count": 1,
   "metadata": {},
   "outputs": [],
   "source": [
    "from metaflow.integrations import ArgoEvent\n",
    "\n",
    "sync = ArgoEvent('sync')\n",
    "\n",
    "# trigger the event with publish()\n",
    "# sync.publish()"
   ]
  }
 ],
 "metadata": {
  "kernelspec": {
   "display_name": ".venv",
   "language": "python",
   "name": "python3"
  },
  "language_info": {
   "codemirror_mode": {
    "name": "ipython",
    "version": 3
   },
   "file_extension": ".py",
   "mimetype": "text/x-python",
   "name": "python",
   "nbconvert_exporter": "python",
   "pygments_lexer": "ipython3",
   "version": "3.11.3"
  },
  "orig_nbformat": 4
 },
 "nbformat": 4,
 "nbformat_minor": 2
}
