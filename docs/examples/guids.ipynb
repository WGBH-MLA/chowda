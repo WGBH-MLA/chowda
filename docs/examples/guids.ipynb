{
 "cells": [
  {
   "cell_type": "markdown",
   "metadata": {},
   "source": [
    "# Resolve filenames to GUIDs\n",
    "\n",
    "In order to address MediaFiles by GUIDs, we need to extract the GUID from the `SonyCiAsset.name` field.\n",
    "\n",
    "## Steps\n",
    "\n",
    "1. Get the list of assets from the DB\n",
    "1. Filter out any name that does not start with `cpb-aacip-`\n",
    "1. Split the name on any of:\n",
    "   - `_` underscore\n",
    "   - `.` period\n",
    "   - `-dupe`\n",
    "\n",
    "There are 8 records with `-dupe` in the name. All other records are correctly filtered with `_` and `.`.\n"
   ]
  },
  {
   "cell_type": "code",
   "execution_count": 3,
   "metadata": {},
   "outputs": [],
   "source": [
    "from chowda.db import engine\n",
    "from chowda.models import SonyCiAsset\n",
    "from sqlmodel import Session, select\n",
    "from re import search, split\n",
    "\n",
    "\n",
    "def get_asset():\n",
    "    with Session(engine) as session:\n",
    "        statement = select(SonyCiAsset)\n",
    "        results = session.exec(statement)\n",
    "\n",
    "        return [\n",
    "            (asset.id, split('_|\\.|-dupe', asset.name)[0])\n",
    "            for asset in results.all()\n",
    "            if search('^cpb-aacip-', asset.name)\n",
    "        ]\n",
    "\n",
    "\n",
    "# assets = get_asset()\n"
   ]
  },
  {
   "cell_type": "markdown",
   "metadata": {},
   "source": [
    "## Check the list\n",
    "\n",
    "If needed, write the guid list to a file and check it manually.\n"
   ]
  },
  {
   "cell_type": "code",
   "execution_count": 4,
   "metadata": {},
   "outputs": [],
   "source": [
    "# len(assets)\n",
    "\n",
    "\n",
    "def write_assets():\n",
    "    with open('guids.txt', 'w') as f:\n",
    "        for asset in assets:\n",
    "            f.write(f'{asset[1]}\\n')"
   ]
  },
  {
   "cell_type": "markdown",
   "metadata": {},
   "source": [
    "## Insert MediaFiles\n",
    "\n",
    "Iterate through the list of assets:\n",
    "\n",
    "- Split the GUID from the filename.\n",
    "- Search the database for a matching MediaFile object.\n",
    "  - Insert a new MediaFile object if it does not already exist.\n",
    "- Find the SonyCiAsset object in the database.\n",
    "- Link the MediaFile object to the SonyCiAsset object.\n"
   ]
  },
  {
   "cell_type": "code",
   "execution_count": 6,
   "metadata": {},
   "outputs": [],
   "source": [
    "from chowda.models import MediaFile\n",
    "\n",
    "\n",
    "def insert_media_files():\n",
    "    with Session(engine) as session:\n",
    "        for asset in assets:\n",
    "            # Extract the GUID name\n",
    "            guid = split(r'_|\\.|-dupe', asset[1])[0]\n",
    "            # media_file = session.get(MediaFile, guid)\n",
    "            media_file = session.exec(\n",
    "                select(MediaFile).where(MediaFile.guid == guid)\n",
    "            ).first()\n",
    "            if not media_file:\n",
    "                # Create a new MediaFile with the new guid\n",
    "                media_file = MediaFile(guid=guid)\n",
    "                # session.add(media_file)\n",
    "            ci_asset = session.get(SonyCiAsset, asset[0])\n",
    "            # Add the asset to the existing MediaFile\n",
    "            media_file.assets.append(ci_asset)\n",
    "            # asset.media_files.append(media_file)\n",
    "            session.add(media_file)\n",
    "        session.commit()"
   ]
  }
 ],
 "metadata": {
  "kernelspec": {
   "display_name": ".venv",
   "language": "python",
   "name": "python3"
  },
  "language_info": {
   "codemirror_mode": {
    "name": "ipython",
    "version": 3
   },
   "file_extension": ".py",
   "mimetype": "text/x-python",
   "name": "python",
   "nbconvert_exporter": "python",
   "pygments_lexer": "ipython3",
   "version": "3.11.3"
  },
  "orig_nbformat": 4
 },
 "nbformat": 4,
 "nbformat_minor": 2
}
