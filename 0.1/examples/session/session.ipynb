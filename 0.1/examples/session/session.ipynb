{
 "cells": [
  {
   "attachments": {},
   "cell_type": "markdown",
   "metadata": {},
   "source": [
    "# SQLModel Session exercise\n",
    "Adapted from Drew's slack example"
   ]
  },
  {
   "cell_type": "code",
   "execution_count": 1,
   "metadata": {},
   "outputs": [],
   "source": [
    "from factories import *"
   ]
  },
  {
   "attachments": {},
   "cell_type": "markdown",
   "metadata": {},
   "source": [
    "## Create a new Batch from factory"
   ]
  },
  {
   "cell_type": "code",
   "execution_count": 2,
   "metadata": {},
   "outputs": [
    {
     "name": "stdout",
     "output_type": "stream",
     "text": [
      "2023-04-05 13:11:53,797 INFO sqlalchemy.engine.Engine BEGIN (implicit)\n",
      "2023-04-05 13:11:53,800 INFO sqlalchemy.engine.Engine INSERT INTO batches (name, description) VALUES (?, ?)\n",
      "2023-04-05 13:11:53,802 INFO sqlalchemy.engine.Engine [generated in 0.00180s] ('Batch 0', 'Batch 0 Description')\n",
      "2023-04-05 13:11:53,804 INFO sqlalchemy.engine.Engine COMMIT\n"
     ]
    }
   ],
   "source": [
    "batch = BatchFactory.create()"
   ]
  },
  {
   "attachments": {},
   "cell_type": "markdown",
   "metadata": {},
   "source": [
    "## Grab the session the Batch was created with for inspection."
   ]
  },
  {
   "cell_type": "code",
   "execution_count": 3,
   "metadata": {},
   "outputs": [],
   "source": [
    "session = Session.object_session(batch)"
   ]
  },
  {
   "attachments": {},
   "cell_type": "markdown",
   "metadata": {},
   "source": [
    "## Change something on the batch"
   ]
  },
  {
   "cell_type": "code",
   "execution_count": 4,
   "metadata": {},
   "outputs": [],
   "source": [
    "batch.description = \"exceedingly jolly\""
   ]
  },
  {
   "attachments": {},
   "cell_type": "markdown",
   "metadata": {},
   "source": [
    "## View the changes that have yet to be committed to the db"
   ]
  },
  {
   "cell_type": "code",
   "execution_count": 5,
   "metadata": {},
   "outputs": [
    {
     "name": "stdout",
     "output_type": "stream",
     "text": [
      "session.dirty =  IdentitySet([Batch(description='exceedingly jolly')])\n"
     ]
    }
   ],
   "source": [
    "print('session.dirty = ', session.dirty)\n",
    "# => session.dirty = IdentitySet([Batch(description='foo')])"
   ]
  },
  {
   "attachments": {},
   "cell_type": "markdown",
   "metadata": {},
   "source": [
    "## Commit the changes to the db. \n",
    "Note that we do not have to call session.add(batch) since the Batch instance is already attached to the session."
   ]
  },
  {
   "cell_type": "code",
   "execution_count": 6,
   "metadata": {},
   "outputs": [
    {
     "name": "stdout",
     "output_type": "stream",
     "text": [
      "2023-04-05 13:11:54,189 INFO sqlalchemy.engine.Engine BEGIN (implicit)\n",
      "2023-04-05 13:11:54,193 INFO sqlalchemy.engine.Engine SELECT batches.id AS batches_id, batches.name AS batches_name \n",
      "FROM batches \n",
      "WHERE batches.id = ?\n",
      "2023-04-05 13:11:54,194 INFO sqlalchemy.engine.Engine [generated in 0.00104s] (14,)\n",
      "2023-04-05 13:11:54,196 INFO sqlalchemy.engine.Engine UPDATE batches SET description=? WHERE batches.id = ?\n",
      "2023-04-05 13:11:54,197 INFO sqlalchemy.engine.Engine [generated in 0.00072s] ('exceedingly jolly', 14)\n",
      "2023-04-05 13:11:54,198 INFO sqlalchemy.engine.Engine COMMIT\n"
     ]
    }
   ],
   "source": [
    "session.commit()"
   ]
  },
  {
   "attachments": {},
   "cell_type": "markdown",
   "metadata": {},
   "source": [
    "## Verify there are no other pending changes."
   ]
  },
  {
   "cell_type": "code",
   "execution_count": 7,
   "metadata": {},
   "outputs": [
    {
     "name": "stdout",
     "output_type": "stream",
     "text": [
      "session.dirty =  IdentitySet([])\n"
     ]
    }
   ],
   "source": [
    "print('session.dirty = ', session.dirty)\n",
    "# => IdentitySet([])"
   ]
  },
  {
   "attachments": {},
   "cell_type": "markdown",
   "metadata": {},
   "source": [
    "\n",
    "## Use a contextual session \n",
    "(called \"db\") to grab a separate copy of the batch and verify it has the change."
   ]
  },
  {
   "cell_type": "code",
   "execution_count": 8,
   "metadata": {},
   "outputs": [
    {
     "name": "stdout",
     "output_type": "stream",
     "text": [
      "2023-04-05 13:11:54,422 INFO sqlalchemy.engine.Engine BEGIN (implicit)\n",
      "2023-04-05 13:11:54,423 INFO sqlalchemy.engine.Engine SELECT batches.id AS batches_id, batches.name AS batches_name, batches.description AS batches_description \n",
      "FROM batches \n",
      "WHERE batches.id = ?\n",
      "2023-04-05 13:11:54,424 INFO sqlalchemy.engine.Engine [generated in 0.00088s] (14,)\n",
      "2023-04-05 13:11:54,426 INFO sqlalchemy.engine.Engine BEGIN (implicit)\n",
      "2023-04-05 13:11:54,428 INFO sqlalchemy.engine.Engine SELECT batches.id, batches.name, batches.description \n",
      "FROM batches \n",
      "WHERE batches.id = ?\n",
      "2023-04-05 13:11:54,429 INFO sqlalchemy.engine.Engine [generated in 0.00082s] (14,)\n",
      "2023-04-05 13:11:54,430 INFO sqlalchemy.engine.Engine ROLLBACK\n",
      "batch_copy.description =  exceedingly jolly\n"
     ]
    }
   ],
   "source": [
    "with Session(engine) as db:\n",
    "   batch_copy = db.exec(\n",
    "       select(Batch).where(Batch.id==batch.id)\n",
    "   ).first()\n",
    "print('batch_copy.description = ', batch_copy.description)\n",
    "# => foo"
   ]
  },
  {
   "attachments": {},
   "cell_type": "markdown",
   "metadata": {},
   "source": [
    "Note that since we grabbed batch_copy using a contextual session, and that context has ended, so has the session, and the object is currently unattached to any session."
   ]
  },
  {
   "cell_type": "code",
   "execution_count": 9,
   "metadata": {},
   "outputs": [
    {
     "name": "stdout",
     "output_type": "stream",
     "text": [
      "seesion for batch_copy =  None\n"
     ]
    }
   ],
   "source": [
    "print('seesion for batch_copy = ', Session.object_session(batch_copy))\n",
    "# => None"
   ]
  },
  {
   "attachments": {},
   "cell_type": "markdown",
   "metadata": {},
   "source": [
    "## Now change batch_copy.descripiton, \n",
    "save it with a contextual session, and see how it affected or original Batch instance, which is still alive and attached to the session it was created with."
   ]
  },
  {
   "cell_type": "code",
   "execution_count": 10,
   "metadata": {},
   "outputs": [
    {
     "name": "stdout",
     "output_type": "stream",
     "text": [
      "2023-04-05 13:11:54,703 INFO sqlalchemy.engine.Engine BEGIN (implicit)\n",
      "2023-04-05 13:11:54,705 INFO sqlalchemy.engine.Engine UPDATE batches SET description=? WHERE batches.id = ?\n",
      "2023-04-05 13:11:54,706 INFO sqlalchemy.engine.Engine [cached since 0.5094s ago] ('exceedingly jolly and effortlessly charming', 14)\n",
      "2023-04-05 13:11:54,707 INFO sqlalchemy.engine.Engine COMMIT\n"
     ]
    }
   ],
   "source": [
    "batch_copy.description += \" and effortlessly charming\"\n",
    "with Session(engine) as db:\n",
    "   db.add(batch_copy)\n",
    "   db.commit()"
   ]
  },
  {
   "attachments": {},
   "cell_type": "markdown",
   "metadata": {},
   "source": [
    "## NOTE: after committing changes to batch_copy using contextual session in this way,\n",
    "trying to access attributes on the object like batch_copy.description raises an error: \n",
    "> Instance <Batch at 0x107b84e10> is not bound to a Session; attribute refresh operation cannot proceed"
   ]
  },
  {
   "cell_type": "code",
   "execution_count": 11,
   "metadata": {},
   "outputs": [
    {
     "name": "stdout",
     "output_type": "stream",
     "text": [
      "2023-04-05 13:11:54,955 INFO sqlalchemy.engine.Engine BEGIN (implicit)\n",
      "2023-04-05 13:11:54,956 INFO sqlalchemy.engine.Engine SELECT batches.id AS batches_id, batches.name AS batches_name, batches.description AS batches_description \n",
      "FROM batches \n",
      "WHERE batches.id = ?\n",
      "2023-04-05 13:11:54,957 INFO sqlalchemy.engine.Engine [cached since 0.534s ago] (14,)\n",
      "batch_copy.description =  exceedingly jolly and effortlessly charming\n",
      "2023-04-05 13:11:54,959 INFO sqlalchemy.engine.Engine ROLLBACK\n"
     ]
    }
   ],
   "source": [
    "with Session(engine) as db:\n",
    "   db.add(batch_copy)\n",
    "   print('batch_copy.description = ', batch_copy.description)\n",
    "   # => batch_copy.description =  exceedingly jolly and effortlessly charming"
   ]
  },
  {
   "attachments": {},
   "cell_type": "markdown",
   "metadata": {},
   "source": [
    "## Confirm that our original Batch instance still has the old description"
   ]
  },
  {
   "cell_type": "code",
   "execution_count": 12,
   "metadata": {},
   "outputs": [
    {
     "name": "stdout",
     "output_type": "stream",
     "text": [
      "batch.description before refresh =  exceedingly jolly\n"
     ]
    }
   ],
   "source": [
    "print('batch.description before refresh = ', batch.description)\n",
    "# => batch.description before refresh = exceedingly jolly\n"
   ]
  },
  {
   "attachments": {},
   "cell_type": "markdown",
   "metadata": {},
   "source": [
    "## Refresh the original Batch instance\n",
    "and check the description again"
   ]
  },
  {
   "cell_type": "code",
   "execution_count": 13,
   "metadata": {},
   "outputs": [
    {
     "name": "stdout",
     "output_type": "stream",
     "text": [
      "2023-04-05 13:11:55,366 INFO sqlalchemy.engine.Engine SELECT batches.id, batches.name, batches.description \n",
      "FROM batches \n",
      "WHERE batches.id = ?\n",
      "2023-04-05 13:11:55,368 INFO sqlalchemy.engine.Engine [generated in 0.00136s] (14,)\n",
      "batch.description after refresh =  exceedingly jolly and effortlessly charming\n"
     ]
    }
   ],
   "source": [
    "session.refresh(batch)\n",
    "print('batch.description after refresh = ', batch.description)\n",
    "# => batch.description after refresh = exceedingly jolly and effortlessly charming\n"
   ]
  },
  {
   "attachments": {},
   "cell_type": "markdown",
   "metadata": {},
   "source": [
    "## Now let's edit `batch.description` and `batch_copy.description`\n",
    "and update them both independently to see what happens."
   ]
  },
  {
   "cell_type": "code",
   "execution_count": 14,
   "metadata": {},
   "outputs": [],
   "source": [
    "batch.description += \" and fantastically flatulent\""
   ]
  },
  {
   "attachments": {},
   "cell_type": "markdown",
   "metadata": {},
   "source": [
    "\n",
    "## save the first edit"
   ]
  },
  {
   "cell_type": "code",
   "execution_count": 15,
   "metadata": {},
   "outputs": [
    {
     "name": "stdout",
     "output_type": "stream",
     "text": [
      "2023-04-05 13:11:55,512 INFO sqlalchemy.engine.Engine UPDATE batches SET description=? WHERE batches.id = ?\n",
      "2023-04-05 13:11:55,513 INFO sqlalchemy.engine.Engine [cached since 1.317s ago] ('exceedingly jolly and effortlessly charming and fantastically flatulent', 14)\n",
      "2023-04-05 13:11:55,515 INFO sqlalchemy.engine.Engine COMMIT\n"
     ]
    }
   ],
   "source": [
    "\n",
    "session.commit()"
   ]
  },
  {
   "attachments": {},
   "cell_type": "markdown",
   "metadata": {},
   "source": [
    "## save the second edit\n"
   ]
  },
  {
   "cell_type": "code",
   "execution_count": 16,
   "metadata": {},
   "outputs": [
    {
     "name": "stdout",
     "output_type": "stream",
     "text": [
      "2023-04-05 13:11:55,579 INFO sqlalchemy.engine.Engine BEGIN (implicit)\n",
      "2023-04-05 13:11:55,580 INFO sqlalchemy.engine.Engine UPDATE batches SET description=? WHERE batches.id = ?\n",
      "2023-04-05 13:11:55,581 INFO sqlalchemy.engine.Engine [cached since 1.385s ago] ('exceedingly jolly and effortlessly charming and elaborately loquacious', 14)\n",
      "2023-04-05 13:11:55,583 INFO sqlalchemy.engine.Engine COMMIT\n",
      "2023-04-05 13:11:55,586 INFO sqlalchemy.engine.Engine BEGIN (implicit)\n",
      "2023-04-05 13:11:55,586 INFO sqlalchemy.engine.Engine SELECT batches.id AS batches_id, batches.name AS batches_name, batches.description AS batches_description \n",
      "FROM batches \n",
      "WHERE batches.id = ?\n",
      "2023-04-05 13:11:55,587 INFO sqlalchemy.engine.Engine [cached since 1.164s ago] (14,)\n",
      "batch_copy.description =  exceedingly jolly and effortlessly charming and elaborately loquacious\n",
      "2023-04-05 13:11:55,589 INFO sqlalchemy.engine.Engine ROLLBACK\n"
     ]
    }
   ],
   "source": [
    "with Session(engine) as db:\n",
    "   batch_copy.description += \" and elaborately loquacious\"\n",
    "   db.add(batch_copy)\n",
    "   db.commit()\n",
    "   print('batch_copy.description = ', batch_copy.description)\n",
    "# => batch_copy.description =  exceedingly jolly and effortlessly charming and elaborately loquacious"
   ]
  },
  {
   "attachments": {},
   "cell_type": "markdown",
   "metadata": {},
   "source": [
    "## Unsurprisingly, the 2nd save wins. \n",
    "The changes saved in original Batch instance with it's original session get overwritten by this one."
   ]
  }
 ],
 "metadata": {
  "kernelspec": {
   "display_name": "Python 3",
   "language": "python",
   "name": "python3"
  },
  "language_info": {
   "codemirror_mode": {
    "name": "ipython",
    "version": 3
   },
   "file_extension": ".py",
   "mimetype": "text/x-python",
   "name": "python",
   "nbconvert_exporter": "python",
   "pygments_lexer": "ipython3",
   "version": "3.11.2"
  },
  "orig_nbformat": 4
 },
 "nbformat": 4,
 "nbformat_minor": 2
}
